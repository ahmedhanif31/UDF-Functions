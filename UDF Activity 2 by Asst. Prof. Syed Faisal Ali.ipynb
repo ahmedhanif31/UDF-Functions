{
 "cells": [
  {
   "cell_type": "markdown",
   "metadata": {},
   "source": [
    "# Python User Define Function Practice Activity - 2 "
   ]
  },
  {
   "cell_type": "markdown",
   "metadata": {},
   "source": [
    "Asst. Prof. Syed Faisal Ali              $\\;\\;\\;\\;\\;\\;$              Programming Fundamentals - FALL 2019 $\\;\\;\\;\\;\\;\\;$ Software Engineering                     $\\;\\;\\;\\;\\;\\;$                   Dated: 27 Nov 2019"
   ]
  },
  {
   "cell_type": "markdown",
   "metadata": {},
   "source": [
    "Question 1: Create a function to find the following:\n",
    "If the base of triangle is 3 cm long and its equilateral triangle and the radius of circle is 1.5 cm then find the area of triangle shaded. \n"
   ]
  },
  {
   "cell_type": "markdown",
   "metadata": {},
   "source": [
    "![proj](q1.jpg)"
   ]
  },
  {
   "cell_type": "code",
   "execution_count": 1,
   "metadata": {},
   "outputs": [
    {
     "name": "stdout",
     "output_type": "stream",
     "text": [
      "area of shaded region is 19.92857142857143\n"
     ]
    }
   ],
   "source": [
    "#10mins\n",
    "def areaofregion(r,l):\n",
    "    circle=(22/7)*r**2\n",
    "    triangle=l**2*3\n",
    "    shadedregion=triangle-circle\n",
    "    return shadedregion\n",
    "print(\"area of shaded region is\",areaofregion(1.5,3))"
   ]
  },
  {
   "cell_type": "markdown",
   "metadata": {},
   "source": [
    "Question 2: Create a function which can read a dictionary of your family members such as 5 members. \n",
    "1 Abbu, 1 Ammi, 2 Brothers 1 Sister. Now feed this data in dictionary in terms of name and relations.\n",
    "The UDF will ask findrelation() in this you will enter Brother it will return the names of two brothers you have inserted. In case if the relation is not found it will return “Sorry the relation doesn’t exist in your family.” \n"
   ]
  },
  {
   "cell_type": "code",
   "execution_count": 3,
   "metadata": {},
   "outputs": [
    {
     "name": "stdout",
     "output_type": "stream",
     "text": [
      "Enter Relation : brother\n",
      "Azan\n",
      "Ahmed\n"
     ]
    }
   ],
   "source": [
    "# 10 Mins\n",
    "def findRelation (relation):\n",
    "    RelationDictionary = {\n",
    "        \"brother\" : \"Azan\\nAhmed\",\n",
    "        \"father\"  : \"Hanif\",\n",
    "        \"mother\"  : \"Hameeda\",\n",
    "        \"sister\"  : \"Sadia\",\n",
    "    }\n",
    "    if relation in RelationDictionary:\n",
    "        return RelationDictionary [relation]\n",
    "    else:\n",
    "        return \"Sorry the relation doesn’t exist in your family.\"\n",
    "print (findRelation (input(\"Enter Relation : \")))"
   ]
  },
  {
   "cell_type": "markdown",
   "metadata": {},
   "source": [
    "Question 3: Create a function to find the following:\n",
    "If the base of triangle is 5 cm long and its equilateral triangle and the radius of circle is 2.25 cm then find the area of triangle shaded. \n"
   ]
  },
  {
   "cell_type": "markdown",
   "metadata": {},
   "source": [
    "![proj](q3.jpg)"
   ]
  },
  {
   "cell_type": "code",
   "execution_count": 4,
   "metadata": {},
   "outputs": [
    {
     "name": "stdout",
     "output_type": "stream",
     "text": [
      "the area of region is 59.09568719120168 cm^2\n"
     ]
    }
   ],
   "source": [
    "from math import pi \n",
    "def area(r,l):\n",
    "    areaofcircle=pi*r**2\n",
    "    trianglearea=l*l*3\n",
    "    z=trianglearea-areaofcircle\n",
    "    return z\n",
    "print(\"the area of region is\",area(2.25,5),\"cm^2\")    "
   ]
  },
  {
   "cell_type": "markdown",
   "metadata": {},
   "source": [
    "Question 4:\n",
    "Create a function that takes a list of random numbers from users and add only those which are even. If all the numbers are odd it will return sorry no even number found.\n"
   ]
  },
  {
   "cell_type": "code",
   "execution_count": 5,
   "metadata": {},
   "outputs": [
    {
     "name": "stdout",
     "output_type": "stream",
     "text": [
      "20\n"
     ]
    }
   ],
   "source": [
    "# 8 Mins\n",
    "def addAllEven (lst):\n",
    "    b=0    \n",
    "    for i in lst:\n",
    "        if i%2 == 0:\n",
    "            b+=i\n",
    "    if b == 0:\n",
    "        return \"sorry no even number found.\"\n",
    "    else:\n",
    "        return b\n",
    "list = [1, 2, 10, 7, 8] \n",
    "print (addAllEven (list))"
   ]
  },
  {
   "cell_type": "markdown",
   "metadata": {},
   "source": [
    "Question 5:\n",
    "Write a function which can take a list of numbers and it will return sorted list.\n"
   ]
  },
  {
   "cell_type": "code",
   "execution_count": 6,
   "metadata": {},
   "outputs": [
    {
     "name": "stdout",
     "output_type": "stream",
     "text": [
      "[1, 1, 2, 2, 3, 4, 7, 8, 9, 43]\n"
     ]
    }
   ],
   "source": [
    "#4 Mins\n",
    "def sortedlist (numbers):\n",
    "    numbers.sort()\n",
    "    return numbers\n",
    "a = [1,3,4,43,7,2,8,9,1,2]\n",
    "print (sortedlist(a))"
   ]
  },
  {
   "cell_type": "markdown",
   "metadata": {},
   "source": [
    "Question 6:\n",
    "Write a function that will take the radius and return the perimeter and area of circle with 5% increment.\n"
   ]
  },
  {
   "cell_type": "code",
   "execution_count": 7,
   "metadata": {},
   "outputs": [
    {
     "name": "stdout",
     "output_type": "stream",
     "text": [
      "Enter Radius to Calculate Area And Perimeter of a Circle with 5% increment : 6\n",
      "(118.8, 39.6)\n"
     ]
    }
   ],
   "source": [
    "#10 Mins\n",
    "def perimeterArea (r):\n",
    "    area = (22/7) *r**2\n",
    "    area = area+(5/100)*area\n",
    "    perimeter = 2 * (22/7) * r\n",
    "    perimeter = perimeter+(5/100)*perimeter\n",
    "    return area , perimeter\n",
    "print (perimeterArea (eval(input(\"Enter Radius to Calculate Area And Perimeter of a Circle with 5% increment : \"))))"
   ]
  },
  {
   "cell_type": "markdown",
   "metadata": {},
   "source": [
    "Question 7:\n",
    "Write a function that will take the strings as argument and return number of vowels and consonants.\n"
   ]
  },
  {
   "cell_type": "code",
   "execution_count": 8,
   "metadata": {},
   "outputs": [
    {
     "name": "stdout",
     "output_type": "stream",
     "text": [
      "Enter String to Calculate Number of Vowels and Constans : Ahmed Hanif\n",
      "('Vowels : ', 4, 'Contants : ', 6)\n"
     ]
    }
   ],
   "source": [
    "#20 Mins\n",
    "def noOfVowelsConstants (string):\n",
    "    a = 0\n",
    "    c = 0\n",
    "    for i in string:\n",
    "        b ='aeiouAEIOU'\n",
    "        if i in b:\n",
    "            a+=1\n",
    "        else:\n",
    "            c+=1            \n",
    "    return \"Vowels : \",a,\"Contants : \",c\n",
    "def removespace(string): \n",
    "    return string.replace(\" \", \"\") \n",
    "print (noOfVowelsConstants(removespace(input(\"Enter String to Calculate Number of Vowels and Constans : \"))))"
   ]
  },
  {
   "cell_type": "markdown",
   "metadata": {},
   "source": [
    "Question 8:\n",
    "Write a function that will take length and breadth for a rectangle and return perimeter and area of rectangle with 8% increment.\n"
   ]
  },
  {
   "cell_type": "code",
   "execution_count": 9,
   "metadata": {},
   "outputs": [
    {
     "name": "stdout",
     "output_type": "stream",
     "text": [
      "Enter Length : 9\n",
      "Enter Breadth : 8\n",
      "(77.76, 36.72)\n"
     ]
    }
   ],
   "source": [
    "def perimeterArea (l,b):\n",
    "    perimeter = 2*l + (2*b)\n",
    "    perimeter = perimeter+(8/100)*perimeter\n",
    "    area = l*b\n",
    "    area = area+(8/100)*area\n",
    "    return area , perimeter\n",
    "l = eval (input(\"Enter Length : \"))\n",
    "b = eval (input(\"Enter Breadth : \"))\n",
    "print (perimeterArea (l,b))"
   ]
  },
  {
   "cell_type": "markdown",
   "metadata": {},
   "source": [
    "Question 9:\n",
    "Write a function that can take the numbers in strings. From string find which number is even and which one is odd. Save them in two different lists and generate the result.\n"
   ]
  },
  {
   "cell_type": "code",
   "execution_count": 10,
   "metadata": {},
   "outputs": [
    {
     "name": "stdout",
     "output_type": "stream",
     "text": [
      "([2, 4, 6, 8, 342, 6, 4], [23, 1])\n"
     ]
    }
   ],
   "source": [
    "#5min\n",
    "def evenoddseperate (lst):\n",
    "    even = []\n",
    "    odd = []\n",
    "    for x in lst:\n",
    "        if x%2 == 0:\n",
    "            even.append(x)\n",
    "        else:\n",
    "            odd.append(x)\n",
    "    return even,odd\n",
    "listofODDEVEN = [2,4,6,23,8,342,1,6,4]\n",
    "print (evenoddseperate (listofODDEVEN))"
   ]
  },
  {
   "cell_type": "markdown",
   "metadata": {},
   "source": [
    "Question 10:\n",
    "Write a function which will take the string from the user and return how many alphabets have been used in it and which alphabets are missing.\n"
   ]
  },
  {
   "cell_type": "code",
   "execution_count": 12,
   "metadata": {},
   "outputs": [
    {
     "name": "stdout",
     "output_type": "stream",
     "text": [
      "Enter String : Ahmed Hanif\n",
      "['qwertyuiopasdfghjklzxcvbnm']\n"
     ]
    }
   ],
   "source": [
    "#10 mins\n",
    "def sepalphabets(stri):\n",
    "   # missingalphabets = []\n",
    "    alphabets=['qwertyuiopasdfghjklzxcvbnm']\n",
    "    for i in alphabets:\n",
    "        if i in stri:\n",
    "            alphabets.remove (i)\n",
    "    return alphabets\n",
    "print(sepalphabets (input (\"Enter String : \")))"
   ]
  },
  {
   "cell_type": "markdown",
   "metadata": {},
   "source": [
    "Question 11:\n",
    "Write a function that will take verbs in words and return a list of verbs with continuous tense by adding (ing) at the end of each verb.\n"
   ]
  },
  {
   "cell_type": "code",
   "execution_count": 13,
   "metadata": {},
   "outputs": [
    {
     "data": {
      "text/plain": [
       "['comeing', 'going']"
      ]
     },
     "execution_count": 13,
     "metadata": {},
     "output_type": "execute_result"
    }
   ],
   "source": [
    "#5 mins\n",
    "def makingcontTense (verbs):\n",
    "    m=[]\n",
    "    for i in verbs:\n",
    "        m.append(i+\"ing\")\n",
    "    return m\n",
    "listi = ['come','go']\n",
    "makingcontTense (listi)"
   ]
  },
  {
   "cell_type": "markdown",
   "metadata": {},
   "source": [
    "Question 12:\n",
    "Make a function which can take two radius of circles and find the areas of it and subtract smaller one from larger one and tell the remaining area of circle.\n"
   ]
  },
  {
   "cell_type": "code",
   "execution_count": 14,
   "metadata": {},
   "outputs": [
    {
     "data": {
      "text/plain": [
       "66.0"
      ]
     },
     "execution_count": 14,
     "metadata": {},
     "output_type": "execute_result"
    }
   ],
   "source": [
    "#3Min\n",
    "def areaofCircle(x,y):\n",
    "    area1 = x**2*(22/7)\n",
    "    area2 = y**2*(22/7)\n",
    "    if area1 > area2:\n",
    "        return area1-area2\n",
    "    else:\n",
    "        return area2 - area1\n",
    "areaofCircle (2,5)"
   ]
  },
  {
   "cell_type": "markdown",
   "metadata": {},
   "source": [
    "Question 13:\n",
    "Write a function that will take a string and calculate number of Upper case letters and lower case letters.\n"
   ]
  },
  {
   "cell_type": "code",
   "execution_count": null,
   "metadata": {},
   "outputs": [],
   "source": []
  },
  {
   "cell_type": "markdown",
   "metadata": {},
   "source": [
    "Question 14:\n",
    "Write a function which will take length and breadth of two rectangles. Subtract the smaller rectangle from the larger rectangle and return the area left behind.\n"
   ]
  },
  {
   "cell_type": "code",
   "execution_count": null,
   "metadata": {},
   "outputs": [],
   "source": []
  },
  {
   "cell_type": "markdown",
   "metadata": {},
   "source": [
    "Question 15:\n",
    "Create a function that can add the fractions in series such as 1 to 8 = 1/8+1/7+1/6+1/5 …… ½ and return the result in fraction not in decimal.\n"
   ]
  },
  {
   "cell_type": "code",
   "execution_count": null,
   "metadata": {},
   "outputs": [],
   "source": []
  },
  {
   "cell_type": "markdown",
   "metadata": {},
   "source": [
    "Question 16:\n",
    "Write a function which will take height and base for a triangle and \n"
   ]
  },
  {
   "cell_type": "code",
   "execution_count": null,
   "metadata": {},
   "outputs": [],
   "source": []
  },
  {
   "cell_type": "markdown",
   "metadata": {},
   "source": [
    "Question 17:\n",
    "Write a function which will take a list of fruits names. The function will return how many alphabets are repetitive in the names of fruits and how many are unique letters.\n"
   ]
  },
  {
   "cell_type": "code",
   "execution_count": null,
   "metadata": {},
   "outputs": [],
   "source": []
  },
  {
   "cell_type": "markdown",
   "metadata": {},
   "source": [
    "Question 18:\n",
    "Write a function that can take square length and radius of circle. Find the area of both and subtract the smallest shape from largest one and return the remaining shape area.\n"
   ]
  },
  {
   "cell_type": "code",
   "execution_count": null,
   "metadata": {},
   "outputs": [],
   "source": []
  }
 ],
 "metadata": {
  "kernelspec": {
   "display_name": "Python 3",
   "language": "python",
   "name": "python3"
  },
  "language_info": {
   "codemirror_mode": {
    "name": "ipython",
    "version": 3
   },
   "file_extension": ".py",
   "mimetype": "text/x-python",
   "name": "python",
   "nbconvert_exporter": "python",
   "pygments_lexer": "ipython3",
   "version": "3.7.4"
  }
 },
 "nbformat": 4,
 "nbformat_minor": 2
}
